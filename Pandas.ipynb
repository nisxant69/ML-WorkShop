{
 "cells": [
  {
   "cell_type": "markdown",
   "id": "c87f4928-60de-431e-8de8-85276372e1ad",
   "metadata": {},
   "source": [
    "# Day 5 : Pandas"
   ]
  },
  {
   "cell_type": "code",
   "execution_count": 3,
   "id": "2f5ebffa-52f1-4617-b1ab-e79cb4a9c88d",
   "metadata": {},
   "outputs": [],
   "source": [
    "import pandas as pd\n",
    "import numpy as np"
   ]
  },
  {
   "cell_type": "markdown",
   "id": "34e3f65c-a5e3-49d5-95e6-9fe4e4e3f0c4",
   "metadata": {},
   "source": [
    "# Working with series"
   ]
  },
  {
   "cell_type": "code",
   "execution_count": 7,
   "id": "72f56b21-416a-4637-9924-4de606eda402",
   "metadata": {},
   "outputs": [
    {
     "name": "stdout",
     "output_type": "stream",
     "text": [
      "0    1\n",
      "1    2\n",
      "2    3\n",
      "3    4\n",
      "4    5\n",
      "dtype: int64\n",
      "<class 'pandas.core.series.Series'>\n",
      "A    1\n",
      "B    2\n",
      "C    3\n",
      "D    4\n",
      "E    5\n",
      "dtype: int64\n",
      "<class 'pandas.core.series.Series'>\n"
     ]
    }
   ],
   "source": [
    "list1 = [1,2,3,4,5]\n",
    "sr1=pd.Series(list1)\n",
    "print(sr1)\n",
    "print(type(sr1))\n",
    "list2 = [1,2,3,4,5]\n",
    "sr2=pd.Series(list2,index=[\"A\",\"B\",\"C\",\"D\",\"E\"])\n",
    "print(sr2)\n",
    "print(type(sr2))"
   ]
  },
  {
   "cell_type": "markdown",
   "id": "1cdff9a7-7a85-4367-b795-84e094fa7a5b",
   "metadata": {},
   "source": [
    "### Make a series of students name along with roll number as  index"
   ]
  },
  {
   "cell_type": "code",
   "execution_count": 16,
   "id": "b63e527f-de41-4f59-b9c8-d2519a4b0b4a",
   "metadata": {},
   "outputs": [
    {
     "name": "stdout",
     "output_type": "stream",
     "text": [
      "Roll Number              Students\n",
      "1                         Prajwal\n",
      "2                        Priyanka\n",
      "3                Anshu DimpleKing\n",
      "4              Asmita DimpleQueen\n",
      "5                           Sudip\n",
      "6                          Ankita\n",
      "dtype: object\n"
     ]
    }
   ],
   "source": [
    "studentName=[\"Students\",\"Prajwal\",\"Priyanka\",\"Anshu DimpleKing\",\"Asmita DimpleQueen\",\"Sudip\",\"Ankita\"]\n",
    "seriess=pd.Series(studentName,index=[\"Roll Number\",1,2,3,4,5,6])\n",
    "print(seriess)"
   ]
  },
  {
   "cell_type": "markdown",
   "id": "1bb79808-8324-4770-8f80-382a4cfbcaf9",
   "metadata": {},
   "source": [
    "### Generate Series using Numpy and Pandas"
   ]
  },
  {
   "cell_type": "code",
   "execution_count": 28,
   "id": "f7ae55e9-0848-43d4-a809-e9dbdab7b5eb",
   "metadata": {},
   "outputs": [
    {
     "name": "stdout",
     "output_type": "stream",
     "text": [
      "0    0\n",
      "1    1\n",
      "2    2\n",
      "3    3\n",
      "4    4\n",
      "dtype: int64\n",
      "\n",
      "0    0.245921\n",
      "1    0.667900\n",
      "2    0.841454\n",
      "3    0.494671\n",
      "4    0.300745\n",
      "dtype: float64\n"
     ]
    }
   ],
   "source": [
    "# Generate Series using Numpy and Pandas\n",
    "series1=pd.Series(np.arange(5))          # Using arange\n",
    "print(series1)\n",
    "print()\n",
    "series2=pd.Series(np.random.rand(5))     # Using random\n",
    "print(series2)"
   ]
  },
  {
   "cell_type": "markdown",
   "id": "d35b00d2-5bbc-47d7-926e-14bbe24c24e8",
   "metadata": {},
   "source": [
    "### ADD TWO SERIES"
   ]
  },
  {
   "cell_type": "code",
   "execution_count": 33,
   "id": "03bba339-07cf-4a73-8878-1d1ce4d55c1b",
   "metadata": {},
   "outputs": [
    {
     "name": "stdout",
     "output_type": "stream",
     "text": [
      "0    15\n",
      "1    17\n",
      "2    19\n",
      "3    21\n",
      "4    23\n",
      "dtype: int64\n"
     ]
    }
   ],
   "source": [
    "series1=pd.Series(np.arange(5,10))\n",
    "series2=pd.Series(np.arange(10,15))\n",
    "print(series1+series2)"
   ]
  },
  {
   "cell_type": "code",
   "execution_count": 34,
   "id": "28ea938d-aa97-422c-a13d-40cc1d02948c",
   "metadata": {},
   "outputs": [
    {
     "name": "stdout",
     "output_type": "stream",
     "text": [
      "0     50\n",
      "1     66\n",
      "2     84\n",
      "3    104\n",
      "4    126\n",
      "dtype: int64\n"
     ]
    }
   ],
   "source": [
    "print(series1*series2)"
   ]
  },
  {
   "cell_type": "markdown",
   "id": "dfa9866b-341c-46ed-9a6b-b16de7d8cbbc",
   "metadata": {},
   "source": [
    "# DataFrame   (2D array vako ma use hunxa)"
   ]
  },
  {
   "cell_type": "markdown",
   "id": "ecf8b966-99d8-492a-86d5-6d3a7eb0c351",
   "metadata": {},
   "source": [
    "### Dictionary to DataFrame Conversion"
   ]
  },
  {
   "cell_type": "code",
   "execution_count": 38,
   "id": "5fa2101f-5905-461a-9964-9b7f9dae3cfd",
   "metadata": {},
   "outputs": [
    {
     "name": "stdout",
     "output_type": "stream",
     "text": [
      "{'A': [1, 2, 3, 4, 5], 'B': [9, 8, 7, 6, 5]}\n",
      "   A  B\n",
      "0  1  9\n",
      "1  2  8\n",
      "2  3  7\n",
      "3  4  6\n",
      "4  5  5\n"
     ]
    }
   ],
   "source": [
    "# pd.DataFrame()\n",
    "dic1={\"A\":[1,2,3,4,5],\"B\":[9,8,7,6,5]}\n",
    "print(dic1)\n",
    "df=pd.DataFrame(dic1)\n",
    "print(df)"
   ]
  },
  {
   "cell_type": "code",
   "execution_count": 40,
   "id": "59a94a31-c5db-4710-aaa9-3bfa3f8d8fe2",
   "metadata": {},
   "outputs": [
    {
     "data": {
      "text/html": [
       "<div>\n",
       "<style scoped>\n",
       "    .dataframe tbody tr th:only-of-type {\n",
       "        vertical-align: middle;\n",
       "    }\n",
       "\n",
       "    .dataframe tbody tr th {\n",
       "        vertical-align: top;\n",
       "    }\n",
       "\n",
       "    .dataframe thead th {\n",
       "        text-align: right;\n",
       "    }\n",
       "</style>\n",
       "<table border=\"1\" class=\"dataframe\">\n",
       "  <thead>\n",
       "    <tr style=\"text-align: right;\">\n",
       "      <th></th>\n",
       "      <th>A</th>\n",
       "      <th>B</th>\n",
       "    </tr>\n",
       "  </thead>\n",
       "  <tbody>\n",
       "    <tr>\n",
       "      <th>0</th>\n",
       "      <td>1</td>\n",
       "      <td>9</td>\n",
       "    </tr>\n",
       "    <tr>\n",
       "      <th>1</th>\n",
       "      <td>2</td>\n",
       "      <td>8</td>\n",
       "    </tr>\n",
       "    <tr>\n",
       "      <th>2</th>\n",
       "      <td>3</td>\n",
       "      <td>7</td>\n",
       "    </tr>\n",
       "    <tr>\n",
       "      <th>3</th>\n",
       "      <td>4</td>\n",
       "      <td>6</td>\n",
       "    </tr>\n",
       "    <tr>\n",
       "      <th>4</th>\n",
       "      <td>5</td>\n",
       "      <td>5</td>\n",
       "    </tr>\n",
       "  </tbody>\n",
       "</table>\n",
       "</div>"
      ],
      "text/plain": [
       "   A  B\n",
       "0  1  9\n",
       "1  2  8\n",
       "2  3  7\n",
       "3  4  6\n",
       "4  5  5"
      ]
     },
     "execution_count": 40,
     "metadata": {},
     "output_type": "execute_result"
    }
   ],
   "source": [
    "df"
   ]
  },
  {
   "cell_type": "code",
   "execution_count": 70,
   "id": "307005b0-55bc-4f13-9064-a30fcf2344ee",
   "metadata": {},
   "outputs": [
    {
     "data": {
      "text/html": [
       "<div>\n",
       "<style scoped>\n",
       "    .dataframe tbody tr th:only-of-type {\n",
       "        vertical-align: middle;\n",
       "    }\n",
       "\n",
       "    .dataframe tbody tr th {\n",
       "        vertical-align: top;\n",
       "    }\n",
       "\n",
       "    .dataframe thead th {\n",
       "        text-align: right;\n",
       "    }\n",
       "</style>\n",
       "<table border=\"1\" class=\"dataframe\">\n",
       "  <thead>\n",
       "    <tr style=\"text-align: right;\">\n",
       "      <th></th>\n",
       "      <th>Students</th>\n",
       "      <th>Roll No</th>\n",
       "      <th>Marks Obtained</th>\n",
       "    </tr>\n",
       "  </thead>\n",
       "  <tbody>\n",
       "    <tr>\n",
       "      <th>0</th>\n",
       "      <td>STD1</td>\n",
       "      <td>001</td>\n",
       "      <td>25</td>\n",
       "    </tr>\n",
       "    <tr>\n",
       "      <th>1</th>\n",
       "      <td>STD2</td>\n",
       "      <td>002</td>\n",
       "      <td>55</td>\n",
       "    </tr>\n",
       "    <tr>\n",
       "      <th>2</th>\n",
       "      <td>STD3</td>\n",
       "      <td>003</td>\n",
       "      <td>68</td>\n",
       "    </tr>\n",
       "    <tr>\n",
       "      <th>3</th>\n",
       "      <td>STD4</td>\n",
       "      <td>004</td>\n",
       "      <td>78</td>\n",
       "    </tr>\n",
       "    <tr>\n",
       "      <th>4</th>\n",
       "      <td>STD5</td>\n",
       "      <td>005</td>\n",
       "      <td>100</td>\n",
       "    </tr>\n",
       "  </tbody>\n",
       "</table>\n",
       "</div>"
      ],
      "text/plain": [
       "  Students Roll No  Marks Obtained\n",
       "0     STD1     001              25\n",
       "1     STD2     002              55\n",
       "2     STD3     003              68\n",
       "3     STD4     004              78\n",
       "4     STD5     005             100"
      ]
     },
     "execution_count": 70,
     "metadata": {},
     "output_type": "execute_result"
    }
   ],
   "source": [
    "student = [\"STD1\",\"STD2\",\"STD3\",\"STD4\",\"STD5\"]\n",
    "rollno = [\"001\",\"002\",\"003\",\"004\",\"005\"]\n",
    "marks = [25,55,68,78,100]\n",
    "dic2={\"Students\":student, \"Roll No\":rollno,\"Marks Obtained\":marks}\n",
    "dfStd=pd.DataFrame(dic2)\n",
    "dfStd"
   ]
  },
  {
   "cell_type": "code",
   "execution_count": 72,
   "id": "716db208-c1be-4700-89d0-3b9430ccc264",
   "metadata": {
    "scrolled": true
   },
   "outputs": [
    {
     "data": {
      "text/html": [
       "<div>\n",
       "<style scoped>\n",
       "    .dataframe tbody tr th:only-of-type {\n",
       "        vertical-align: middle;\n",
       "    }\n",
       "\n",
       "    .dataframe tbody tr th {\n",
       "        vertical-align: top;\n",
       "    }\n",
       "\n",
       "    .dataframe thead th {\n",
       "        text-align: right;\n",
       "    }\n",
       "</style>\n",
       "<table border=\"1\" class=\"dataframe\">\n",
       "  <thead>\n",
       "    <tr style=\"text-align: right;\">\n",
       "      <th></th>\n",
       "      <th>Roll No</th>\n",
       "      <th>Marks Obtained</th>\n",
       "    </tr>\n",
       "  </thead>\n",
       "  <tbody>\n",
       "    <tr>\n",
       "      <th>0</th>\n",
       "      <td>001</td>\n",
       "      <td>25</td>\n",
       "    </tr>\n",
       "    <tr>\n",
       "      <th>1</th>\n",
       "      <td>002</td>\n",
       "      <td>55</td>\n",
       "    </tr>\n",
       "    <tr>\n",
       "      <th>2</th>\n",
       "      <td>003</td>\n",
       "      <td>68</td>\n",
       "    </tr>\n",
       "    <tr>\n",
       "      <th>3</th>\n",
       "      <td>004</td>\n",
       "      <td>78</td>\n",
       "    </tr>\n",
       "    <tr>\n",
       "      <th>4</th>\n",
       "      <td>005</td>\n",
       "      <td>100</td>\n",
       "    </tr>\n",
       "  </tbody>\n",
       "</table>\n",
       "</div>"
      ],
      "text/plain": [
       "  Roll No  Marks Obtained\n",
       "0     001              25\n",
       "1     002              55\n",
       "2     003              68\n",
       "3     004              78\n",
       "4     005             100"
      ]
     },
     "execution_count": 72,
     "metadata": {},
     "output_type": "execute_result"
    }
   ],
   "source": [
    "dfStd[[\"Roll No\",\"Marks Obtained\"]]    # Multiple Row Access Garna lai Array ko dimension consider garne"
   ]
  },
  {
   "cell_type": "code",
   "execution_count": 80,
   "id": "023073b5-944f-4e6e-ac0e-5783faa9ca66",
   "metadata": {},
   "outputs": [
    {
     "data": {
      "text/html": [
       "<div>\n",
       "<style scoped>\n",
       "    .dataframe tbody tr th:only-of-type {\n",
       "        vertical-align: middle;\n",
       "    }\n",
       "\n",
       "    .dataframe tbody tr th {\n",
       "        vertical-align: top;\n",
       "    }\n",
       "\n",
       "    .dataframe thead th {\n",
       "        text-align: right;\n",
       "    }\n",
       "</style>\n",
       "<table border=\"1\" class=\"dataframe\">\n",
       "  <thead>\n",
       "    <tr style=\"text-align: right;\">\n",
       "      <th></th>\n",
       "      <th>Students</th>\n",
       "      <th>Marks Obtained</th>\n",
       "    </tr>\n",
       "    <tr>\n",
       "      <th>Roll No</th>\n",
       "      <th></th>\n",
       "      <th></th>\n",
       "    </tr>\n",
       "  </thead>\n",
       "  <tbody>\n",
       "    <tr>\n",
       "      <th>001</th>\n",
       "      <td>STD1</td>\n",
       "      <td>25</td>\n",
       "    </tr>\n",
       "    <tr>\n",
       "      <th>002</th>\n",
       "      <td>STD2</td>\n",
       "      <td>55</td>\n",
       "    </tr>\n",
       "    <tr>\n",
       "      <th>003</th>\n",
       "      <td>STD3</td>\n",
       "      <td>68</td>\n",
       "    </tr>\n",
       "    <tr>\n",
       "      <th>004</th>\n",
       "      <td>STD4</td>\n",
       "      <td>78</td>\n",
       "    </tr>\n",
       "    <tr>\n",
       "      <th>005</th>\n",
       "      <td>STD5</td>\n",
       "      <td>100</td>\n",
       "    </tr>\n",
       "  </tbody>\n",
       "</table>\n",
       "</div>"
      ],
      "text/plain": [
       "        Students  Marks Obtained\n",
       "Roll No                         \n",
       "001         STD1              25\n",
       "002         STD2              55\n",
       "003         STD3              68\n",
       "004         STD4              78\n",
       "005         STD5             100"
      ]
     },
     "execution_count": 80,
     "metadata": {},
     "output_type": "execute_result"
    }
   ],
   "source": [
    "student = [\"STD1\",\"STD2\",\"STD3\",\"STD4\",\"STD5\"]\n",
    "rollno = [\"001\",\"002\",\"003\",\"004\",\"005\"]\n",
    "marks = [25,55,68,78,100]\n",
    "dic2={\"Students\":student, \"Roll No\":rollno,\"Marks Obtained\":marks}\n",
    "dfStd=pd.DataFrame(dic2)\n",
    "dfStd.set_index(\"Roll No\")"
   ]
  },
  {
   "cell_type": "markdown",
   "id": "23943af1-da6d-4f1f-918c-f66f9347ab09",
   "metadata": {},
   "source": [
    "### 5 Student Name, Age, Location, College Name"
   ]
  },
  {
   "cell_type": "code",
   "execution_count": 82,
   "id": "9840ec79-6006-4b96-9dbb-3505884352c1",
   "metadata": {},
   "outputs": [
    {
     "data": {
      "text/html": [
       "<div>\n",
       "<style scoped>\n",
       "    .dataframe tbody tr th:only-of-type {\n",
       "        vertical-align: middle;\n",
       "    }\n",
       "\n",
       "    .dataframe tbody tr th {\n",
       "        vertical-align: top;\n",
       "    }\n",
       "\n",
       "    .dataframe thead th {\n",
       "        text-align: right;\n",
       "    }\n",
       "</style>\n",
       "<table border=\"1\" class=\"dataframe\">\n",
       "  <thead>\n",
       "    <tr style=\"text-align: right;\">\n",
       "      <th></th>\n",
       "      <th>Student Name</th>\n",
       "      <th>Age</th>\n",
       "      <th>Address</th>\n",
       "      <th>College</th>\n",
       "    </tr>\n",
       "  </thead>\n",
       "  <tbody>\n",
       "    <tr>\n",
       "      <th>0</th>\n",
       "      <td>Prajwal</td>\n",
       "      <td>20</td>\n",
       "      <td>Itahari</td>\n",
       "      <td>IIC</td>\n",
       "    </tr>\n",
       "    <tr>\n",
       "      <th>1</th>\n",
       "      <td>Priyanka</td>\n",
       "      <td>21</td>\n",
       "      <td>Duhabi</td>\n",
       "      <td>IIC</td>\n",
       "    </tr>\n",
       "    <tr>\n",
       "      <th>2</th>\n",
       "      <td>Sudip</td>\n",
       "      <td>22</td>\n",
       "      <td>Khanar</td>\n",
       "      <td>VAC</td>\n",
       "    </tr>\n",
       "    <tr>\n",
       "      <th>3</th>\n",
       "      <td>Ankita</td>\n",
       "      <td>23</td>\n",
       "      <td>Sudipko Ghar</td>\n",
       "      <td>VAC</td>\n",
       "    </tr>\n",
       "    <tr>\n",
       "      <th>4</th>\n",
       "      <td>Anshu DimpleKing</td>\n",
       "      <td>24</td>\n",
       "      <td>Gadhi Gaupalika</td>\n",
       "      <td>GPLC</td>\n",
       "    </tr>\n",
       "    <tr>\n",
       "      <th>5</th>\n",
       "      <td>Asmita DimpleQueen</td>\n",
       "      <td>25</td>\n",
       "      <td>Anshuko Ghar</td>\n",
       "      <td>GPLC</td>\n",
       "    </tr>\n",
       "  </tbody>\n",
       "</table>\n",
       "</div>"
      ],
      "text/plain": [
       "         Student Name  Age          Address College\n",
       "0             Prajwal   20          Itahari     IIC\n",
       "1            Priyanka   21           Duhabi     IIC\n",
       "2               Sudip   22           Khanar     VAC\n",
       "3              Ankita   23     Sudipko Ghar     VAC\n",
       "4    Anshu DimpleKing   24  Gadhi Gaupalika    GPLC\n",
       "5  Asmita DimpleQueen   25     Anshuko Ghar    GPLC"
      ]
     },
     "execution_count": 82,
     "metadata": {},
     "output_type": "execute_result"
    }
   ],
   "source": [
    "stdName=[\"Prajwal\",\"Priyanka\",\"Sudip\",\"Ankita\",\"Anshu DimpleKing\", \"Asmita DimpleQueen\"]\n",
    "age=[20,21,22,23,24,25]\n",
    "location=[\"Itahari\",\"Duhabi\",\"Khanar\",\"Sudipko Ghar\",\"Gadhi Gaupalika\",\"Anshuko Ghar\"]\n",
    "college=[\"IIC\",\"IIC\",\"VAC\",\"VAC\",\"GPLC\",\"GPLC\"]\n",
    "stdDic={\"Student Name\":stdName, \"Age\":age, \"Address\": location,\"College\":college}\n",
    "DF=pd.DataFrame(stdDic)\n",
    "DF"
   ]
  },
  {
   "cell_type": "markdown",
   "id": "da69ac5e-2776-4b73-8299-b7ea6d09e33d",
   "metadata": {},
   "source": [
    "# Concatination"
   ]
  },
  {
   "cell_type": "code",
   "execution_count": 83,
   "id": "86d2ae94-d13d-4bb2-9a14-167cf8de3246",
   "metadata": {},
   "outputs": [
    {
     "data": {
      "text/html": [
       "<div>\n",
       "<style scoped>\n",
       "    .dataframe tbody tr th:only-of-type {\n",
       "        vertical-align: middle;\n",
       "    }\n",
       "\n",
       "    .dataframe tbody tr th {\n",
       "        vertical-align: top;\n",
       "    }\n",
       "\n",
       "    .dataframe thead th {\n",
       "        text-align: right;\n",
       "    }\n",
       "</style>\n",
       "<table border=\"1\" class=\"dataframe\">\n",
       "  <thead>\n",
       "    <tr style=\"text-align: right;\">\n",
       "      <th></th>\n",
       "      <th>A</th>\n",
       "      <th>B</th>\n",
       "      <th>C</th>\n",
       "    </tr>\n",
       "  </thead>\n",
       "  <tbody>\n",
       "    <tr>\n",
       "      <th>0</th>\n",
       "      <td>1</td>\n",
       "      <td>6</td>\n",
       "      <td>6</td>\n",
       "    </tr>\n",
       "    <tr>\n",
       "      <th>1</th>\n",
       "      <td>2</td>\n",
       "      <td>7</td>\n",
       "      <td>7</td>\n",
       "    </tr>\n",
       "    <tr>\n",
       "      <th>2</th>\n",
       "      <td>3</td>\n",
       "      <td>8</td>\n",
       "      <td>4</td>\n",
       "    </tr>\n",
       "    <tr>\n",
       "      <th>3</th>\n",
       "      <td>4</td>\n",
       "      <td>9</td>\n",
       "      <td>2</td>\n",
       "    </tr>\n",
       "    <tr>\n",
       "      <th>4</th>\n",
       "      <td>5</td>\n",
       "      <td>10</td>\n",
       "      <td>6</td>\n",
       "    </tr>\n",
       "  </tbody>\n",
       "</table>\n",
       "</div>"
      ],
      "text/plain": [
       "   A   B  C\n",
       "0  1   6  6\n",
       "1  2   7  7\n",
       "2  3   8  4\n",
       "3  4   9  2\n",
       "4  5  10  6"
      ]
     },
     "execution_count": 83,
     "metadata": {},
     "output_type": "execute_result"
    }
   ],
   "source": [
    "df3 = pd.DataFrame ({\"A\":[1,2,3,4,5], \"B\":[6,7,8,9,10], \"C\":[6,7,4,2,6]})\n",
    "df3 "
   ]
  },
  {
   "cell_type": "code",
   "execution_count": 87,
   "id": "777b9baf-37ef-4fde-accc-c853c409d6a3",
   "metadata": {},
   "outputs": [
    {
     "data": {
      "text/html": [
       "<div>\n",
       "<style scoped>\n",
       "    .dataframe tbody tr th:only-of-type {\n",
       "        vertical-align: middle;\n",
       "    }\n",
       "\n",
       "    .dataframe tbody tr th {\n",
       "        vertical-align: top;\n",
       "    }\n",
       "\n",
       "    .dataframe thead th {\n",
       "        text-align: right;\n",
       "    }\n",
       "</style>\n",
       "<table border=\"1\" class=\"dataframe\">\n",
       "  <thead>\n",
       "    <tr style=\"text-align: right;\">\n",
       "      <th></th>\n",
       "      <th>A</th>\n",
       "      <th>B</th>\n",
       "      <th>C</th>\n",
       "      <th>D</th>\n",
       "      <th>Sum</th>\n",
       "      <th>Sum of A B C D</th>\n",
       "    </tr>\n",
       "  </thead>\n",
       "  <tbody>\n",
       "    <tr>\n",
       "      <th>0</th>\n",
       "      <td>1</td>\n",
       "      <td>6</td>\n",
       "      <td>6</td>\n",
       "      <td>13</td>\n",
       "      <td>13</td>\n",
       "      <td>13</td>\n",
       "    </tr>\n",
       "    <tr>\n",
       "      <th>1</th>\n",
       "      <td>2</td>\n",
       "      <td>7</td>\n",
       "      <td>7</td>\n",
       "      <td>16</td>\n",
       "      <td>16</td>\n",
       "      <td>16</td>\n",
       "    </tr>\n",
       "    <tr>\n",
       "      <th>2</th>\n",
       "      <td>3</td>\n",
       "      <td>8</td>\n",
       "      <td>4</td>\n",
       "      <td>15</td>\n",
       "      <td>15</td>\n",
       "      <td>15</td>\n",
       "    </tr>\n",
       "    <tr>\n",
       "      <th>3</th>\n",
       "      <td>4</td>\n",
       "      <td>9</td>\n",
       "      <td>2</td>\n",
       "      <td>15</td>\n",
       "      <td>15</td>\n",
       "      <td>15</td>\n",
       "    </tr>\n",
       "    <tr>\n",
       "      <th>4</th>\n",
       "      <td>5</td>\n",
       "      <td>10</td>\n",
       "      <td>6</td>\n",
       "      <td>21</td>\n",
       "      <td>21</td>\n",
       "      <td>21</td>\n",
       "    </tr>\n",
       "  </tbody>\n",
       "</table>\n",
       "</div>"
      ],
      "text/plain": [
       "   A   B  C   D  Sum  Sum of A B C D\n",
       "0  1   6  6  13   13              13\n",
       "1  2   7  7  16   16              16\n",
       "2  3   8  4  15   15              15\n",
       "3  4   9  2  15   15              15\n",
       "4  5  10  6  21   21              21"
      ]
     },
     "execution_count": 87,
     "metadata": {},
     "output_type": "execute_result"
    }
   ],
   "source": [
    "df3[\"Sum \"]= df3[\"A\"] + df3[\"B\"] + df3[\"C\"]\n",
    "df3"
   ]
  },
  {
   "cell_type": "code",
   "execution_count": 89,
   "id": "35c5992c-153b-47ad-9481-7347c51fa9ae",
   "metadata": {},
   "outputs": [
    {
     "data": {
      "text/html": [
       "<div>\n",
       "<style scoped>\n",
       "    .dataframe tbody tr th:only-of-type {\n",
       "        vertical-align: middle;\n",
       "    }\n",
       "\n",
       "    .dataframe tbody tr th {\n",
       "        vertical-align: top;\n",
       "    }\n",
       "\n",
       "    .dataframe thead th {\n",
       "        text-align: right;\n",
       "    }\n",
       "</style>\n",
       "<table border=\"1\" class=\"dataframe\">\n",
       "  <thead>\n",
       "    <tr style=\"text-align: right;\">\n",
       "      <th></th>\n",
       "      <th>A</th>\n",
       "      <th>B</th>\n",
       "      <th>C</th>\n",
       "      <th>D</th>\n",
       "      <th>Sum</th>\n",
       "      <th>Sum of A B C D</th>\n",
       "      <th>Average</th>\n",
       "    </tr>\n",
       "  </thead>\n",
       "  <tbody>\n",
       "    <tr>\n",
       "      <th>0</th>\n",
       "      <td>1</td>\n",
       "      <td>6</td>\n",
       "      <td>6</td>\n",
       "      <td>13</td>\n",
       "      <td>13</td>\n",
       "      <td>13</td>\n",
       "      <td>4.333333</td>\n",
       "    </tr>\n",
       "    <tr>\n",
       "      <th>1</th>\n",
       "      <td>2</td>\n",
       "      <td>7</td>\n",
       "      <td>7</td>\n",
       "      <td>16</td>\n",
       "      <td>16</td>\n",
       "      <td>16</td>\n",
       "      <td>5.333333</td>\n",
       "    </tr>\n",
       "    <tr>\n",
       "      <th>2</th>\n",
       "      <td>3</td>\n",
       "      <td>8</td>\n",
       "      <td>4</td>\n",
       "      <td>15</td>\n",
       "      <td>15</td>\n",
       "      <td>15</td>\n",
       "      <td>5.000000</td>\n",
       "    </tr>\n",
       "    <tr>\n",
       "      <th>3</th>\n",
       "      <td>4</td>\n",
       "      <td>9</td>\n",
       "      <td>2</td>\n",
       "      <td>15</td>\n",
       "      <td>15</td>\n",
       "      <td>15</td>\n",
       "      <td>5.000000</td>\n",
       "    </tr>\n",
       "    <tr>\n",
       "      <th>4</th>\n",
       "      <td>5</td>\n",
       "      <td>10</td>\n",
       "      <td>6</td>\n",
       "      <td>21</td>\n",
       "      <td>21</td>\n",
       "      <td>21</td>\n",
       "      <td>7.000000</td>\n",
       "    </tr>\n",
       "  </tbody>\n",
       "</table>\n",
       "</div>"
      ],
      "text/plain": [
       "   A   B  C   D  Sum  Sum of A B C D   Average\n",
       "0  1   6  6  13   13              13  4.333333\n",
       "1  2   7  7  16   16              16  5.333333\n",
       "2  3   8  4  15   15              15  5.000000\n",
       "3  4   9  2  15   15              15  5.000000\n",
       "4  5  10  6  21   21              21  7.000000"
      ]
     },
     "execution_count": 89,
     "metadata": {},
     "output_type": "execute_result"
    }
   ],
   "source": [
    "df3[\"Average\"] = (df3[\"A\"] + df3[\"B\"] + df3[\"C\"])/3\n",
    "df3"
   ]
  },
  {
   "cell_type": "code",
   "execution_count": 90,
   "id": "7bf37650-5415-4f63-87a9-4fc25232c598",
   "metadata": {},
   "outputs": [
    {
     "data": {
      "text/plain": [
       "(5, 7)"
      ]
     },
     "execution_count": 90,
     "metadata": {},
     "output_type": "execute_result"
    }
   ],
   "source": [
    "df3.shape"
   ]
  },
  {
   "cell_type": "markdown",
   "id": "55d813f4-d53f-451b-b8d2-1af796603ef8",
   "metadata": {},
   "source": [
    "### Export DataFrame To CSV"
   ]
  },
  {
   "cell_type": "code",
   "execution_count": 96,
   "id": "5d8f92c8-e0cb-4838-b3fc-0c0545677825",
   "metadata": {},
   "outputs": [],
   "source": [
    "#  To csv \n",
    "df3.to_csv(\"abcd.csv\")"
   ]
  },
  {
   "cell_type": "markdown",
   "id": "926ef053-ce2c-40c1-88c5-586ecc8919bd",
   "metadata": {},
   "source": [
    "### Import DataFrame From CSV"
   ]
  },
  {
   "cell_type": "code",
   "execution_count": 104,
   "id": "5ead1cd5-f73d-4245-8d4e-0d229835a54c",
   "metadata": {},
   "outputs": [],
   "source": [
    "# read_csv(path)\n",
    "df_read=pd.read_csv(\"abcd.csv\")"
   ]
  },
  {
   "cell_type": "code",
   "execution_count": 105,
   "id": "2f8f5541-b6d1-4d0a-9cb7-f1f1bb73957c",
   "metadata": {},
   "outputs": [
    {
     "data": {
      "text/html": [
       "<div>\n",
       "<style scoped>\n",
       "    .dataframe tbody tr th:only-of-type {\n",
       "        vertical-align: middle;\n",
       "    }\n",
       "\n",
       "    .dataframe tbody tr th {\n",
       "        vertical-align: top;\n",
       "    }\n",
       "\n",
       "    .dataframe thead th {\n",
       "        text-align: right;\n",
       "    }\n",
       "</style>\n",
       "<table border=\"1\" class=\"dataframe\">\n",
       "  <thead>\n",
       "    <tr style=\"text-align: right;\">\n",
       "      <th></th>\n",
       "      <th>Unnamed: 0</th>\n",
       "      <th>A</th>\n",
       "      <th>B</th>\n",
       "      <th>C</th>\n",
       "      <th>D</th>\n",
       "      <th>Sum</th>\n",
       "      <th>Sum of A B C D</th>\n",
       "      <th>Average</th>\n",
       "    </tr>\n",
       "  </thead>\n",
       "  <tbody>\n",
       "    <tr>\n",
       "      <th>0</th>\n",
       "      <td>0</td>\n",
       "      <td>1</td>\n",
       "      <td>6</td>\n",
       "      <td>6</td>\n",
       "      <td>13</td>\n",
       "      <td>13</td>\n",
       "      <td>13</td>\n",
       "      <td>4.333333</td>\n",
       "    </tr>\n",
       "    <tr>\n",
       "      <th>1</th>\n",
       "      <td>1</td>\n",
       "      <td>2</td>\n",
       "      <td>7</td>\n",
       "      <td>7</td>\n",
       "      <td>16</td>\n",
       "      <td>16</td>\n",
       "      <td>16</td>\n",
       "      <td>5.333333</td>\n",
       "    </tr>\n",
       "    <tr>\n",
       "      <th>2</th>\n",
       "      <td>2</td>\n",
       "      <td>3</td>\n",
       "      <td>8</td>\n",
       "      <td>4</td>\n",
       "      <td>15</td>\n",
       "      <td>15</td>\n",
       "      <td>15</td>\n",
       "      <td>5.000000</td>\n",
       "    </tr>\n",
       "    <tr>\n",
       "      <th>3</th>\n",
       "      <td>3</td>\n",
       "      <td>4</td>\n",
       "      <td>9</td>\n",
       "      <td>2</td>\n",
       "      <td>15</td>\n",
       "      <td>15</td>\n",
       "      <td>15</td>\n",
       "      <td>5.000000</td>\n",
       "    </tr>\n",
       "    <tr>\n",
       "      <th>4</th>\n",
       "      <td>4</td>\n",
       "      <td>5</td>\n",
       "      <td>10</td>\n",
       "      <td>6</td>\n",
       "      <td>21</td>\n",
       "      <td>21</td>\n",
       "      <td>21</td>\n",
       "      <td>7.000000</td>\n",
       "    </tr>\n",
       "  </tbody>\n",
       "</table>\n",
       "</div>"
      ],
      "text/plain": [
       "   Unnamed: 0  A   B  C   D  Sum  Sum of A B C D   Average\n",
       "0           0  1   6  6  13   13              13  4.333333\n",
       "1           1  2   7  7  16   16              16  5.333333\n",
       "2           2  3   8  4  15   15              15  5.000000\n",
       "3           3  4   9  2  15   15              15  5.000000\n",
       "4           4  5  10  6  21   21              21  7.000000"
      ]
     },
     "execution_count": 105,
     "metadata": {},
     "output_type": "execute_result"
    }
   ],
   "source": [
    "df_read"
   ]
  },
  {
   "cell_type": "code",
   "execution_count": 106,
   "id": "6414c741-f64f-415a-b527-e00d77cc45e5",
   "metadata": {},
   "outputs": [],
   "source": [
    "del df_read[\"Unnamed: 0\"]"
   ]
  },
  {
   "cell_type": "code",
   "execution_count": 108,
   "id": "41ddeb40-1e98-431c-9316-b4b3890febc9",
   "metadata": {},
   "outputs": [
    {
     "data": {
      "text/html": [
       "<div>\n",
       "<style scoped>\n",
       "    .dataframe tbody tr th:only-of-type {\n",
       "        vertical-align: middle;\n",
       "    }\n",
       "\n",
       "    .dataframe tbody tr th {\n",
       "        vertical-align: top;\n",
       "    }\n",
       "\n",
       "    .dataframe thead th {\n",
       "        text-align: right;\n",
       "    }\n",
       "</style>\n",
       "<table border=\"1\" class=\"dataframe\">\n",
       "  <thead>\n",
       "    <tr style=\"text-align: right;\">\n",
       "      <th></th>\n",
       "      <th>A</th>\n",
       "      <th>B</th>\n",
       "      <th>C</th>\n",
       "      <th>D</th>\n",
       "      <th>Sum</th>\n",
       "      <th>Sum of A B C D</th>\n",
       "      <th>Average</th>\n",
       "    </tr>\n",
       "  </thead>\n",
       "  <tbody>\n",
       "    <tr>\n",
       "      <th>0</th>\n",
       "      <td>1</td>\n",
       "      <td>6</td>\n",
       "      <td>6</td>\n",
       "      <td>13</td>\n",
       "      <td>13</td>\n",
       "      <td>13</td>\n",
       "      <td>4.333333</td>\n",
       "    </tr>\n",
       "    <tr>\n",
       "      <th>1</th>\n",
       "      <td>2</td>\n",
       "      <td>7</td>\n",
       "      <td>7</td>\n",
       "      <td>16</td>\n",
       "      <td>16</td>\n",
       "      <td>16</td>\n",
       "      <td>5.333333</td>\n",
       "    </tr>\n",
       "    <tr>\n",
       "      <th>2</th>\n",
       "      <td>3</td>\n",
       "      <td>8</td>\n",
       "      <td>4</td>\n",
       "      <td>15</td>\n",
       "      <td>15</td>\n",
       "      <td>15</td>\n",
       "      <td>5.000000</td>\n",
       "    </tr>\n",
       "    <tr>\n",
       "      <th>3</th>\n",
       "      <td>4</td>\n",
       "      <td>9</td>\n",
       "      <td>2</td>\n",
       "      <td>15</td>\n",
       "      <td>15</td>\n",
       "      <td>15</td>\n",
       "      <td>5.000000</td>\n",
       "    </tr>\n",
       "    <tr>\n",
       "      <th>4</th>\n",
       "      <td>5</td>\n",
       "      <td>10</td>\n",
       "      <td>6</td>\n",
       "      <td>21</td>\n",
       "      <td>21</td>\n",
       "      <td>21</td>\n",
       "      <td>7.000000</td>\n",
       "    </tr>\n",
       "  </tbody>\n",
       "</table>\n",
       "</div>"
      ],
      "text/plain": [
       "   A   B  C   D  Sum  Sum of A B C D   Average\n",
       "0  1   6  6  13   13              13  4.333333\n",
       "1  2   7  7  16   16              16  5.333333\n",
       "2  3   8  4  15   15              15  5.000000\n",
       "3  4   9  2  15   15              15  5.000000\n",
       "4  5  10  6  21   21              21  7.000000"
      ]
     },
     "execution_count": 108,
     "metadata": {},
     "output_type": "execute_result"
    }
   ],
   "source": [
    "df_read"
   ]
  },
  {
   "cell_type": "code",
   "execution_count": null,
   "id": "6783b4a5-ca17-48f8-b210-af5c66eb6895",
   "metadata": {},
   "outputs": [],
   "source": []
  }
 ],
 "metadata": {
  "kernelspec": {
   "display_name": "Python 3 (ipykernel)",
   "language": "python",
   "name": "python3"
  },
  "language_info": {
   "codemirror_mode": {
    "name": "ipython",
    "version": 3
   },
   "file_extension": ".py",
   "mimetype": "text/x-python",
   "name": "python",
   "nbconvert_exporter": "python",
   "pygments_lexer": "ipython3",
   "version": "3.13.5"
  }
 },
 "nbformat": 4,
 "nbformat_minor": 5
}
