{
 "cells": [
  {
   "cell_type": "code",
   "execution_count": 49,
   "id": "8e658700-baeb-475f-8f8c-029df4c0cc9d",
   "metadata": {},
   "outputs": [
    {
     "name": "stdout",
     "output_type": "stream",
     "text": [
      "Hello World\n"
     ]
    }
   ],
   "source": [
    "print(\"Hello World\")"
   ]
  },
  {
   "cell_type": "markdown",
   "id": "5dcbdfc0-8def-4d4a-968c-f3f88b6fb3c3",
   "metadata": {},
   "source": [
    "# LEARNING NUMPY"
   ]
  },
  {
   "cell_type": "code",
   "execution_count": 50,
   "id": "5e36af21-6a50-4012-b7ee-42bc03867977",
   "metadata": {},
   "outputs": [],
   "source": [
    "\n",
    "\n",
    "import numpy as np\n",
    "\n"
   ]
  },
  {
   "cell_type": "markdown",
   "id": "1c6fd739-599d-4327-940d-f746b10ef3a9",
   "metadata": {},
   "source": [
    "# Creating array using numpy"
   ]
  },
  {
   "cell_type": "code",
   "execution_count": 51,
   "id": "29078805-081f-49fe-afe1-332edc55f8e9",
   "metadata": {},
   "outputs": [],
   "source": [
    "arr = np.array([1,1])"
   ]
  },
  {
   "cell_type": "code",
   "execution_count": 52,
   "id": "f816cf47-6c2f-40d5-bb1b-73b6b4986ec4",
   "metadata": {},
   "outputs": [
    {
     "name": "stdout",
     "output_type": "stream",
     "text": [
      "[1 1]\n",
      "<class 'numpy.ndarray'>\n"
     ]
    }
   ],
   "source": [
    "print(arr)\n",
    "print(type(arr))"
   ]
  },
  {
   "cell_type": "code",
   "execution_count": 53,
   "id": "561a5483",
   "metadata": {},
   "outputs": [],
   "source": [
    "listt=[1,2,3,4,5]"
   ]
  },
  {
   "cell_type": "code",
   "execution_count": 54,
   "id": "ed42cb85-182d-411b-bdd7-4cd4f1d39e84",
   "metadata": {},
   "outputs": [
    {
     "name": "stdout",
     "output_type": "stream",
     "text": [
      "[1, 2, 3, 4, 5]\n",
      "<class 'list'>\n"
     ]
    }
   ],
   "source": [
    "print(listt)\n",
    "print(type(listt))"
   ]
  },
  {
   "cell_type": "markdown",
   "id": "f68af630-d6a5-434d-9024-db6e4d380062",
   "metadata": {},
   "source": [
    "### Generating 1-10 element in Numpy and List"
   ]
  },
  {
   "cell_type": "code",
   "execution_count": 55,
   "id": "f9aa4836-2398-4115-8ad3-45a04b192707",
   "metadata": {},
   "outputs": [],
   "source": [
    "list_range=[i for i in range(1,11)]"
   ]
  },
  {
   "cell_type": "code",
   "execution_count": 56,
   "id": "f6198905-13dc-4d1a-a0ed-f814cf62755f",
   "metadata": {},
   "outputs": [
    {
     "name": "stdout",
     "output_type": "stream",
     "text": [
      "[1, 2, 3, 4, 5, 6, 7, 8, 9, 10]\n"
     ]
    }
   ],
   "source": [
    "print(list_range)"
   ]
  },
  {
   "cell_type": "code",
   "execution_count": 57,
   "id": "4b4de1de-49fa-409a-a957-27ef1f3471d6",
   "metadata": {},
   "outputs": [
    {
     "name": "stdout",
     "output_type": "stream",
     "text": [
      "[ 1  2  3  4  5  6  7  8  9 10]\n"
     ]
    }
   ],
   "source": [
    "numpy_range=np.arange(1,11)\n",
    "print(numpy_range)"
   ]
  },
  {
   "cell_type": "markdown",
   "id": "b7377c34-44fa-4d7c-b3a1-1aed1c3f31b9",
   "metadata": {},
   "source": [
    "### Array Iteration"
   ]
  },
  {
   "cell_type": "code",
   "execution_count": 58,
   "id": "1120b430-e5e8-4d43-bec1-b1c2c31c9f5f",
   "metadata": {},
   "outputs": [
    {
     "name": "stdout",
     "output_type": "stream",
     "text": [
      "1\n",
      "2\n",
      "3\n",
      "4\n",
      "5\n",
      "6\n",
      "7\n",
      "8\n",
      "9\n",
      "10\n"
     ]
    }
   ],
   "source": [
    "numpy_iter=np.arange(1,11)\n",
    "for i in range(0,10):\n",
    "    print(numpy_iter[i])"
   ]
  },
  {
   "cell_type": "markdown",
   "id": "e7ca2376-f623-4521-8bf3-690452410b94",
   "metadata": {},
   "source": [
    "### Convert List to Array using Numpy"
   ]
  },
  {
   "cell_type": "code",
   "execution_count": 59,
   "id": "04338245-453c-44f6-9a3f-581673677e51",
   "metadata": {},
   "outputs": [
    {
     "name": "stdout",
     "output_type": "stream",
     "text": [
      "['This' 'is' 'a' 'list' '6' '6' '6']\n",
      "<class 'numpy.ndarray'>\n"
     ]
    }
   ],
   "source": [
    "list=[\"This\",\"is\",\"a\",\"list\",6,6,6]\n",
    "arr=np.array(list)\n",
    "print(arr)\n",
    "print(type(arr))"
   ]
  },
  {
   "cell_type": "markdown",
   "id": "46d2d4b8-6353-40dd-aaea-1b0c90fbc668",
   "metadata": {},
   "source": [
    "### Convert Array To List"
   ]
  },
  {
   "cell_type": "code",
   "execution_count": 60,
   "id": "45417081-b4bd-4e84-b52d-0a63f739660a",
   "metadata": {},
   "outputs": [
    {
     "name": "stdout",
     "output_type": "stream",
     "text": [
      "[1 2 3 4 5]\n",
      "[1, 2, 3, 4, 5]\n"
     ]
    }
   ],
   "source": [
    "arr=np.array([1,2,3,4,5])\n",
    "listt=arr.tolist()\n",
    "print(arr)\n",
    "print(listt)"
   ]
  },
  {
   "cell_type": "markdown",
   "id": "b0102d2f-4ab0-49c3-a9eb-09ff5a1bec0a",
   "metadata": {},
   "source": [
    "# Creating 2D Array In Numpy"
   ]
  },
  {
   "cell_type": "code",
   "execution_count": 61,
   "id": "fdacdffd-f004-4936-9070-4f7a0a712ff3",
   "metadata": {},
   "outputs": [
    {
     "name": "stdout",
     "output_type": "stream",
     "text": [
      "[[1 2 3]\n",
      " [5 6 7]]\n",
      "2\n"
     ]
    }
   ],
   "source": [
    "arr_2d = np.array([[1,2,3],[5,6,7]])\n",
    "print(arr_2d)\n",
    "print(arr_2d.ndim) #Dimension Check gareko\n"
   ]
  },
  {
   "cell_type": "markdown",
   "id": "bf51cc08-be48-43d7-909a-8b469c16fefc",
   "metadata": {},
   "source": [
    "# Using Random in Numpy"
   ]
  },
  {
   "cell_type": "code",
   "execution_count": 62,
   "id": "f7e1bde7-77e6-46ab-903b-bdddc8c146ef",
   "metadata": {},
   "outputs": [],
   "source": [
    "# rand     -->>   Generates a random value between 0 and 1.\n",
    "# randn    -->>   Generates a random value close to 0.\n",
    "# randint  -->>   Generates a random value within range specified."
   ]
  },
  {
   "cell_type": "markdown",
   "id": "36b9b677-cb89-4f3c-abda-d7c846996333",
   "metadata": {},
   "source": [
    "# rand     -->>   Generates a random value between 0 and 1."
   ]
  },
  {
   "cell_type": "code",
   "execution_count": 63,
   "id": "ca695a4a-1b4b-41a1-b40e-ea2fc5bb5987",
   "metadata": {},
   "outputs": [
    {
     "name": "stdout",
     "output_type": "stream",
     "text": [
      "[0.23053225 0.88227028 0.98332309 0.85891654 0.28392073 0.20149608\n",
      " 0.09875519 0.90456126 0.42058163 0.31886881]\n"
     ]
    }
   ],
   "source": [
    "rand_arr = np.random.rand(10)    # Katiota chaiyeko specify garna sakinxa\n",
    "print(rand_arr)"
   ]
  },
  {
   "cell_type": "code",
   "execution_count": 70,
   "id": "d92f4717-bd26-4175-8961-d6b0f9f5aabb",
   "metadata": {},
   "outputs": [
    {
     "name": "stdout",
     "output_type": "stream",
     "text": [
      "[[0.25133357 0.54772308 0.32627712 0.20071209]\n",
      " [0.88179056 0.84919662 0.29640103 0.69408909]\n",
      " [0.64654768 0.42737705 0.70325526 0.23008363]\n",
      " [0.89366031 0.806106   0.81150401 0.83337245]\n",
      " [0.40473445 0.23393118 0.06118479 0.15641259]]\n"
     ]
    }
   ],
   "source": [
    "# Print 2D Array Using Rand Function\n",
    "rand2dArray = np.random.rand(5,4)\n",
    "print(rand2dArray)"
   ]
  },
  {
   "cell_type": "markdown",
   "id": "7869d748-5416-49f3-b94c-fe6fb9d3cf2c",
   "metadata": {},
   "source": [
    "# randn    -->>   Generates a random value close to 0."
   ]
  },
  {
   "cell_type": "code",
   "execution_count": 42,
   "id": "39e60601-d381-493a-a729-c47f725912a0",
   "metadata": {},
   "outputs": [
    {
     "name": "stdout",
     "output_type": "stream",
     "text": [
      "[-0.80863879 -0.27616421  0.03819629 -3.69974929  0.56054676  0.76429739\n",
      " -0.47727047 -0.83087506 -0.59358426  0.63213573]\n"
     ]
    }
   ],
   "source": [
    "randn_arr = np.random.randn(10)    # Katiota chaiyeko specify garna sakinxa\n",
    "print(randn_arr)"
   ]
  },
  {
   "cell_type": "markdown",
   "id": "e2dd470c-ba65-4669-93bd-c55405e82ade",
   "metadata": {},
   "source": [
    "# randint  -->>   Generates a random value within range specified."
   ]
  },
  {
   "cell_type": "code",
   "execution_count": 75,
   "id": "aba52852-5bd4-459a-a91e-ea2da3b83105",
   "metadata": {},
   "outputs": [
    {
     "name": "stdout",
     "output_type": "stream",
     "text": [
      "[9 5 5 4 2]\n"
     ]
    }
   ],
   "source": [
    "randint_arr = np.random.randint(2,10,5) #(start,stop,size)\n",
    "print(randint_arr)"
   ]
  },
  {
   "cell_type": "code",
   "execution_count": 88,
   "id": "2d9d3cbc-74c2-49d6-9363-7998842e3de0",
   "metadata": {},
   "outputs": [
    {
     "name": "stdout",
     "output_type": "stream",
     "text": [
      "[87 87 76 70 44 11 13 82 21 82 32  3 68 95  1 83 57 46 36 99]\n",
      "[50 18 70 35 81 29 23 39  2 65 35 90 76 51 46 21 59 44  4 15]\n"
     ]
    }
   ],
   "source": [
    "# 20 random number between 0 and 100 \n",
    "randarr = np.random.randint(0,100,size=20)\n",
    "randomArray = np.random.randint(0,100,20)\n",
    "print(randarr)\n",
    "print(randomArray)"
   ]
  },
  {
   "cell_type": "code",
   "execution_count": 85,
   "id": "11c85c3a-4f4b-44a7-98a2-4138628396e9",
   "metadata": {},
   "outputs": [
    {
     "name": "stdout",
     "output_type": "stream",
     "text": [
      "[[ 7 62 85]\n",
      " [72 98 25]\n",
      " [72 63 23]]\n"
     ]
    }
   ],
   "source": [
    "# 2D Random Number Array \n",
    "randarr = np.random.randint(0,100,size=(3,3))\n",
    "print(randarr)"
   ]
  },
  {
   "cell_type": "code",
   "execution_count": null,
   "id": "a1133750-8b85-47bc-93fb-aa1b3d38fd0a",
   "metadata": {},
   "outputs": [],
   "source": []
  }
 ],
 "metadata": {
  "kernelspec": {
   "display_name": "Python 3 (ipykernel)",
   "language": "python",
   "name": "python3"
  },
  "language_info": {
   "codemirror_mode": {
    "name": "ipython",
    "version": 3
   },
   "file_extension": ".py",
   "mimetype": "text/x-python",
   "name": "python",
   "nbconvert_exporter": "python",
   "pygments_lexer": "ipython3",
   "version": "3.13.1"
  }
 },
 "nbformat": 4,
 "nbformat_minor": 5
}
