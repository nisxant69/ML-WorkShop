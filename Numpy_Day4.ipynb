{
  "cells": [
    {
      "cell_type": "code",
      "execution_count": null,
      "id": "434cc591-6c62-4e2a-9467-fd53c6700a9d",
      "metadata": {
        "id": "434cc591-6c62-4e2a-9467-fd53c6700a9d"
      },
      "outputs": [],
      "source": [
        "import numpy as np\n"
      ]
    },
    {
      "cell_type": "markdown",
      "id": "9d94ca77-587e-4e64-b560-3f5de81dd7cb",
      "metadata": {
        "id": "9d94ca77-587e-4e64-b560-3f5de81dd7cb"
      },
      "source": [
        "# DAY 4 ✔"
      ]
    },
    {
      "cell_type": "markdown",
      "id": "70b2ff8b-98dc-4f0f-bdb7-b02614439b9d",
      "metadata": {
        "id": "70b2ff8b-98dc-4f0f-bdb7-b02614439b9d"
      },
      "source": [
        "# Some functions in numpy"
      ]
    },
    {
      "cell_type": "code",
      "execution_count": null,
      "id": "10974ef6-eb04-4eab-9e05-6b9b39e05954",
      "metadata": {
        "id": "10974ef6-eb04-4eab-9e05-6b9b39e05954",
        "outputId": "d280f61e-13c3-432a-f5a2-e264ebb9402f"
      },
      "outputs": [
        {
          "name": "stdout",
          "output_type": "stream",
          "text": [
            "[0. 0. 0. 0. 0. 0. 0. 0. 0. 0.]\n"
          ]
        }
      ],
      "source": [
        "#zeros\n",
        "#ones\n",
        "#identify\n",
        "zero_arr=np.zeros(10)\n",
        "print(zero_arr)"
      ]
    },
    {
      "cell_type": "code",
      "execution_count": null,
      "id": "559898b9-b5d0-46d6-96a7-241b6a5c01d0",
      "metadata": {
        "id": "559898b9-b5d0-46d6-96a7-241b6a5c01d0",
        "outputId": "30408ccc-00ca-4242-f754-f539bb33e5cc"
      },
      "outputs": [
        {
          "name": "stdout",
          "output_type": "stream",
          "text": [
            "[1. 1. 1. 1. 1. 1. 1. 1. 1. 1.]\n"
          ]
        }
      ],
      "source": [
        "#one\n",
        "zero_arr=np.ones(10)\n",
        "print(zero_arr)"
      ]
    },
    {
      "cell_type": "code",
      "execution_count": null,
      "id": "8a88f0ee-d588-4d06-862e-fe1177338a42",
      "metadata": {
        "id": "8a88f0ee-d588-4d06-862e-fe1177338a42",
        "outputId": "cfe2a861-5907-4a0e-d9ab-c30ed71753a4"
      },
      "outputs": [
        {
          "name": "stdout",
          "output_type": "stream",
          "text": [
            "[[1. 1. 1. 1. 1. 1. 1. 1. 1. 1.]]\n"
          ]
        }
      ],
      "source": [
        "twodarray = np.array(np.ones(10), ndmin=2)\n",
        "print(twodarray)"
      ]
    },
    {
      "cell_type": "code",
      "execution_count": null,
      "id": "3f7aa91d-b6c9-4549-bedb-0d62568722eb",
      "metadata": {
        "id": "3f7aa91d-b6c9-4549-bedb-0d62568722eb",
        "outputId": "166abd46-d1e5-48b0-a634-b4988f90fb50"
      },
      "outputs": [
        {
          "name": "stdout",
          "output_type": "stream",
          "text": [
            "[[0. 0.]\n",
            " [0. 0.]]\n"
          ]
        }
      ],
      "source": [
        "array=np.zeros((2,2))\n",
        "print(array)"
      ]
    },
    {
      "cell_type": "code",
      "execution_count": null,
      "id": "846b8274-3047-4af0-9542-b0c4df93a7ac",
      "metadata": {
        "id": "846b8274-3047-4af0-9542-b0c4df93a7ac",
        "outputId": "6e508e57-c00b-4bc4-f813-3b3fbc061922"
      },
      "outputs": [
        {
          "name": "stdout",
          "output_type": "stream",
          "text": [
            "[[1. 1. 1. 1. 1. 1.]\n",
            " [1. 1. 1. 1. 1. 1.]\n",
            " [1. 1. 1. 1. 1. 1.]\n",
            " [1. 1. 1. 1. 1. 1.]\n",
            " [1. 1. 1. 1. 1. 1.]]\n"
          ]
        }
      ],
      "source": [
        "array=np.ones((5,6))\n",
        "print(array)"
      ]
    },
    {
      "cell_type": "markdown",
      "id": "38481d0d-e0f6-4879-86d5-e7c9cc7d7f5e",
      "metadata": {
        "id": "38481d0d-e0f6-4879-86d5-e7c9cc7d7f5e"
      },
      "source": [
        "### Identity Matrix eye() function"
      ]
    },
    {
      "cell_type": "code",
      "execution_count": null,
      "id": "32c959bd-1ebd-45ee-8c24-3e5c201939f9",
      "metadata": {
        "id": "32c959bd-1ebd-45ee-8c24-3e5c201939f9",
        "outputId": "fbe99d30-3c64-460e-c927-553458c435a4"
      },
      "outputs": [
        {
          "name": "stdout",
          "output_type": "stream",
          "text": [
            "[[1. 0. 0. 0. 0. 0. 0. 0. 0. 0.]\n",
            " [0. 1. 0. 0. 0. 0. 0. 0. 0. 0.]\n",
            " [0. 0. 1. 0. 0. 0. 0. 0. 0. 0.]\n",
            " [0. 0. 0. 1. 0. 0. 0. 0. 0. 0.]\n",
            " [0. 0. 0. 0. 1. 0. 0. 0. 0. 0.]\n",
            " [0. 0. 0. 0. 0. 1. 0. 0. 0. 0.]\n",
            " [0. 0. 0. 0. 0. 0. 1. 0. 0. 0.]\n",
            " [0. 0. 0. 0. 0. 0. 0. 1. 0. 0.]\n",
            " [0. 0. 0. 0. 0. 0. 0. 0. 1. 0.]\n",
            " [0. 0. 0. 0. 0. 0. 0. 0. 0. 1.]]\n"
          ]
        }
      ],
      "source": [
        "array=np.eye((10))\n",
        "print(array)"
      ]
    },
    {
      "cell_type": "markdown",
      "id": "9db76f45-454f-4b35-b9c7-cb7f63225d9a",
      "metadata": {
        "id": "9db76f45-454f-4b35-b9c7-cb7f63225d9a"
      },
      "source": [
        "# Arithmetic Operation in Numpy Array"
      ]
    },
    {
      "cell_type": "code",
      "execution_count": null,
      "id": "bc1fae3c-dad2-4588-94aa-9fa4cf166087",
      "metadata": {
        "id": "bc1fae3c-dad2-4588-94aa-9fa4cf166087"
      },
      "outputs": [],
      "source": [
        "arr = np.array([1,2,3,4,5])\n",
        "print(arr + 5)\n",
        "print(arr - 5)\n",
        "print(arr * 5)\n",
        "print(arr / 5)"
      ]
    },
    {
      "cell_type": "code",
      "execution_count": null,
      "id": "de68f4d3-9008-4306-a33d-00b8346aaed7",
      "metadata": {
        "id": "de68f4d3-9008-4306-a33d-00b8346aaed7",
        "outputId": "e9be78cc-13a5-43d7-be3e-9122c2736ff7"
      },
      "outputs": [
        {
          "name": "stdout",
          "output_type": "stream",
          "text": [
            "[ 6  8 10 12]\n",
            "[4 4 4 4]\n",
            "[ 5 12 21 32]\n",
            "[5.         3.         2.33333333 2.        ]\n"
          ]
        }
      ],
      "source": [
        "# Perform all calc of two array\n",
        "arr1 = np.array([1,2,3,4])\n",
        "arr2 = np.array([5,6,7,8])\n",
        "print(arr1+arr2)\n",
        "print(arr2-arr1)\n",
        "print(arr1*arr2)\n",
        "print(arr2/arr1)"
      ]
    },
    {
      "cell_type": "markdown",
      "id": "c7b511df-bca0-488c-92b9-adfa7d3f3fd3",
      "metadata": {
        "id": "c7b511df-bca0-488c-92b9-adfa7d3f3fd3"
      },
      "source": [
        "### Calculation in 2d array using rand int in 2 array"
      ]
    },
    {
      "cell_type": "code",
      "execution_count": null,
      "id": "016cf5c2-94e1-4e1c-9326-b25be164d6fd",
      "metadata": {
        "id": "016cf5c2-94e1-4e1c-9326-b25be164d6fd",
        "outputId": "5c28665f-5d6b-4198-c498-33130176d652"
      },
      "outputs": [
        {
          "name": "stdout",
          "output_type": "stream",
          "text": [
            "[[62 60  9 51]\n",
            " [19 41  9 29]\n",
            " [63 19 37  5]]\n",
            "\n",
            "[[38 60 26 90]\n",
            " [28 22 58 48]\n",
            " [ 2  4  5 14]]\n",
            "\n",
            "Addition: \n",
            " [[100 120  35 141]\n",
            " [ 47  63  67  77]\n",
            " [ 65  23  42  19]]\n",
            "\n",
            "Substraction: \n",
            " [[ 24   0 -17 -39]\n",
            " [ -9  19 -49 -19]\n",
            " [ 61  15  32  -9]]\n",
            "\n",
            "Product: \n",
            " [[2356 3600  234 4590]\n",
            " [ 532  902  522 1392]\n",
            " [ 126   76  185   70]]\n",
            "\n",
            "Division: \n",
            " [[ 1.63157895  1.          0.34615385  0.56666667]\n",
            " [ 0.67857143  1.86363636  0.15517241  0.60416667]\n",
            " [31.5         4.75        7.4         0.35714286]]\n"
          ]
        }
      ],
      "source": [
        "arr1 = np.random.randint(5,75,size=(3,4))\n",
        "arr2 = np.random.randint(0,100,size=(3,4))\n",
        "print(arr1)\n",
        "print()\n",
        "print(arr2)\n",
        "print()\n",
        "print(f\"Addition: \\n {arr1+arr2}\")\n",
        "print()\n",
        "print(f\"Substraction: \\n {arr1-arr2}\")\n",
        "print()\n",
        "print(f\"Product: \\n {arr1*arr2}\")\n",
        "print()\n",
        "print(f\"Division: \\n {arr1/arr2}\")"
      ]
    },
    {
      "cell_type": "markdown",
      "id": "c8bf7f3f-bb0c-4d23-815b-5a7f61629796",
      "metadata": {
        "id": "c8bf7f3f-bb0c-4d23-815b-5a7f61629796"
      },
      "source": [
        "# Slicing Operation\n",
        "### Syntax: array_name[startPos:EndPos:Jump]"
      ]
    },
    {
      "cell_type": "code",
      "execution_count": null,
      "id": "07b7ff88-2681-4ea7-b4f0-194a2651973d",
      "metadata": {
        "id": "07b7ff88-2681-4ea7-b4f0-194a2651973d",
        "outputId": "13fbc13d-1ebd-47bb-a788-babc8c934298"
      },
      "outputs": [
        {
          "name": "stdout",
          "output_type": "stream",
          "text": [
            "[0 1 2 3 4 5 6 7 8 9]\n",
            "[3 4 5 6 7]\n",
            "[5 6 7 8 9]\n",
            "[5 6 7]\n"
          ]
        }
      ],
      "source": [
        "arr=np.arange(10)\n",
        "print(arr)\n",
        "print(arr[3:8])   # YESMA CHAI HAMILE STARTING RW ENDING ASSIGN GARYAXUM\n",
        "print(arr[5:])    # YESMA LAST SAMMA KO PRINT GARNE HUDA LAST KO POS NALEKHE HUNXA\n",
        "print(arr[5:8])    # YESMA LAST SAMMA KO PRINT GARNE HUDA LAST KO POS NALEKHE HUNXA"
      ]
    },
    {
      "cell_type": "code",
      "execution_count": null,
      "id": "da324ccd-4f39-4e35-8e52-b48590c300eb",
      "metadata": {
        "id": "da324ccd-4f39-4e35-8e52-b48590c300eb",
        "outputId": "3097e4eb-b3b4-4514-d701-949777cb01bf"
      },
      "outputs": [
        {
          "name": "stdout",
          "output_type": "stream",
          "text": [
            "[ 0  1  2  3  4  5  6  7  8  9 10 11 12 13 14 15 16 17 18 19 20]\n",
            "[ 0  2  4  6  8 10 12 14 16 18 20]\n"
          ]
        }
      ],
      "source": [
        "#Print even from 0 to 21\n",
        "arr=np.arange(21)\n",
        "print(arr)\n",
        "print(arr[0:21:2])"
      ]
    },
    {
      "cell_type": "markdown",
      "id": "4d94baea-9e85-433d-9513-256992f3307f",
      "metadata": {
        "id": "4d94baea-9e85-433d-9513-256992f3307f"
      },
      "source": [
        "### Slice in 2D array"
      ]
    },
    {
      "cell_type": "code",
      "execution_count": null,
      "id": "a4b6a8a2-33b8-457b-9560-f26221375de9",
      "metadata": {
        "id": "a4b6a8a2-33b8-457b-9560-f26221375de9",
        "outputId": "182e05bd-ecbe-4829-db1a-98ae42033cd2"
      },
      "outputs": [
        {
          "name": "stdout",
          "output_type": "stream",
          "text": [
            "[[1 2 3]\n",
            " [5 6 7]]\n"
          ]
        }
      ],
      "source": [
        "array_2d = np.array([[1,2,3,4], [5,6,7,8]])\n",
        "print(array_2d)"
      ]
    },
    {
      "cell_type": "code",
      "execution_count": null,
      "id": "521aca6f-1080-4232-b588-49da7440fc2f",
      "metadata": {
        "id": "521aca6f-1080-4232-b588-49da7440fc2f",
        "outputId": "323cdc5b-9712-41b2-c3c7-115838f446c9"
      },
      "outputs": [
        {
          "name": "stdout",
          "output_type": "stream",
          "text": [
            "[[2 3]]\n"
          ]
        }
      ],
      "source": [
        "print(array_2d[0:1,1:3])"
      ]
    },
    {
      "cell_type": "code",
      "execution_count": null,
      "id": "b3921411-c0e8-429b-99d9-f9e5f7c10408",
      "metadata": {
        "id": "b3921411-c0e8-429b-99d9-f9e5f7c10408",
        "outputId": "b6164700-2c75-4b83-db28-79c4e0b885d2"
      },
      "outputs": [
        {
          "name": "stdout",
          "output_type": "stream",
          "text": [
            "[[ 9  8  7  6]\n",
            " [23 45 67 78]]\n"
          ]
        }
      ],
      "source": [
        "arr2d = np.array([[9,8,7,6], [23,45,67,78]])\n",
        "print(arr2d)"
      ]
    },
    {
      "cell_type": "code",
      "execution_count": null,
      "id": "44bf2087-0e9f-4f25-ae9a-6bc4d77bcdda",
      "metadata": {
        "id": "44bf2087-0e9f-4f25-ae9a-6bc4d77bcdda",
        "outputId": "10824d08-a447-40ee-bd58-42a31e61b73f"
      },
      "outputs": [
        {
          "name": "stdout",
          "output_type": "stream",
          "text": [
            "[[45 67]]\n"
          ]
        }
      ],
      "source": [
        "# Print 45 and 67\n",
        "print(arr2d[1:,1:3])"
      ]
    },
    {
      "cell_type": "code",
      "execution_count": null,
      "id": "f4a899f8-eaf3-41ed-a1d8-875030addb59",
      "metadata": {
        "id": "f4a899f8-eaf3-41ed-a1d8-875030addb59",
        "outputId": "b40c5255-6fac-480d-cf6a-f361d7313aa5"
      },
      "outputs": [
        {
          "name": "stdout",
          "output_type": "stream",
          "text": [
            "[[ 5  6  7  8]\n",
            " [ 3  4  6  7]\n",
            " [11 12 34 43]]\n"
          ]
        }
      ],
      "source": [
        "arrayy2d=np.array([[5,6,7,8],[3,4,6,7],[11,12,34,43]])\n",
        "print(arrayy2d)"
      ]
    },
    {
      "cell_type": "code",
      "execution_count": null,
      "id": "b8dd97ad-1811-4b47-b637-220cbc35356c",
      "metadata": {
        "id": "b8dd97ad-1811-4b47-b637-220cbc35356c",
        "outputId": "a6166d4d-3c7d-4b5d-8d33-c11f57d64c24"
      },
      "outputs": [
        {
          "name": "stdout",
          "output_type": "stream",
          "text": [
            "[[ 3  4]\n",
            " [11 12]]\n"
          ]
        }
      ],
      "source": [
        "print(arrayy2d[1:,0:2])"
      ]
    },
    {
      "cell_type": "markdown",
      "id": "c231bdd8-45bf-4917-a341-8853c5462011",
      "metadata": {
        "id": "c231bdd8-45bf-4917-a341-8853c5462011"
      },
      "source": [
        "# Shape and Reshaping in Numpy Array"
      ]
    },
    {
      "cell_type": "markdown",
      "id": "2c4258d0-360b-49b2-8415-ce901b9671aa",
      "metadata": {
        "id": "2c4258d0-360b-49b2-8415-ce901b9671aa"
      },
      "source": [
        "### shape le row rw column return garxa"
      ]
    },
    {
      "cell_type": "code",
      "execution_count": null,
      "id": "8cda4e68-1df6-4c3b-85eb-242544464b5e",
      "metadata": {
        "id": "8cda4e68-1df6-4c3b-85eb-242544464b5e",
        "outputId": "d7c6cee3-c587-4be4-8722-5927c37154f3"
      },
      "outputs": [
        {
          "data": {
            "text/plain": [
              "(4,)"
            ]
          },
          "execution_count": 144,
          "metadata": {},
          "output_type": "execute_result"
        }
      ],
      "source": [
        "array_1d=np.array([5,6,7,8])\n",
        "array_1d.shape"
      ]
    },
    {
      "cell_type": "code",
      "execution_count": null,
      "id": "51d6c942-eacc-4ab6-a035-8d00694f37e7",
      "metadata": {
        "id": "51d6c942-eacc-4ab6-a035-8d00694f37e7",
        "outputId": "e9440bbc-b086-406b-80b2-6cd713090de4"
      },
      "outputs": [
        {
          "data": {
            "text/plain": [
              "(2, 4)"
            ]
          },
          "execution_count": 146,
          "metadata": {},
          "output_type": "execute_result"
        }
      ],
      "source": [
        "array_2d=np.array([[5,6,7,8],[9,10,11,12]])\n",
        "array_2d.shape"
      ]
    },
    {
      "cell_type": "markdown",
      "id": "a92be539-2de2-41c4-89b9-e9f52ef130fd",
      "metadata": {
        "id": "a92be539-2de2-41c4-89b9-e9f52ef130fd"
      },
      "source": [
        "### reshape in numpy changes dimension of array   --->>    arr_name.reshape(row,column) pass garne"
      ]
    },
    {
      "cell_type": "code",
      "execution_count": null,
      "id": "46347997-d928-4788-a7e9-f0a5e3b51977",
      "metadata": {
        "id": "46347997-d928-4788-a7e9-f0a5e3b51977",
        "outputId": "cc86cd57-f503-4fd9-dac8-537b8ab5af4d"
      },
      "outputs": [
        {
          "data": {
            "text/plain": [
              "array([[1, 2],\n",
              "       [3, 4]])"
            ]
          },
          "execution_count": 158,
          "metadata": {},
          "output_type": "execute_result"
        }
      ],
      "source": [
        "array_1d=np.array([1,2,3,4])\n",
        "array_1d.reshape(2,2)"
      ]
    },
    {
      "cell_type": "markdown",
      "id": "8b3a917a-caea-4a89-85fe-3875cbfa63f3",
      "metadata": {
        "id": "8b3a917a-caea-4a89-85fe-3875cbfa63f3"
      },
      "source": [
        "### Create Array of 12 element and reshape the array in 4 by 3 format"
      ]
    },
    {
      "cell_type": "code",
      "execution_count": null,
      "id": "a52e304a-2586-41e1-b55a-bf9d93fecd33",
      "metadata": {
        "id": "a52e304a-2586-41e1-b55a-bf9d93fecd33",
        "outputId": "6ad05947-601d-4ea6-aa4a-a63005e7543b"
      },
      "outputs": [
        {
          "name": "stdout",
          "output_type": "stream",
          "text": [
            "[ 0  1  2  3  4  5  6  7  8  9 10 11]\n"
          ]
        },
        {
          "data": {
            "text/plain": [
              "array([[ 0,  1,  2],\n",
              "       [ 3,  4,  5],\n",
              "       [ 6,  7,  8],\n",
              "       [ 9, 10, 11]])"
            ]
          },
          "execution_count": 161,
          "metadata": {},
          "output_type": "execute_result"
        }
      ],
      "source": [
        "arr=np.arange(12)\n",
        "print(arr)\n",
        "arr.reshape(4,3)"
      ]
    },
    {
      "cell_type": "code",
      "execution_count": null,
      "id": "410b1ffa-dd5c-4d35-8317-b07f31717d4a",
      "metadata": {
        "id": "410b1ffa-dd5c-4d35-8317-b07f31717d4a",
        "outputId": "3dca9161-8d19-4b21-fbcf-012cbf7edc10"
      },
      "outputs": [
        {
          "name": "stdout",
          "output_type": "stream",
          "text": [
            "[ 0  1  2  3  4  5  6  7  8  9 10 11]\n"
          ]
        }
      ],
      "source": [
        "# 2D To 1D\n",
        "arrayy=np.array([[ 0,  1,  2],[ 3,  4,  5],[ 6,  7,  8],[ 9, 10, 11]])\n",
        "print(arrayy.reshape(12))"
      ]
    },
    {
      "cell_type": "markdown",
      "id": "559aa003-61ba-4b8b-ad88-f28cdb5ee1ac",
      "metadata": {
        "id": "559aa003-61ba-4b8b-ad88-f28cdb5ee1ac"
      },
      "source": [
        "### Create two 2D matrix and perform multiply operation\n"
      ]
    },
    {
      "cell_type": "code",
      "execution_count": null,
      "id": "4569ea4a-542b-4047-8d9c-28281c157a76",
      "metadata": {
        "id": "4569ea4a-542b-4047-8d9c-28281c157a76",
        "outputId": "f0073233-b52f-4524-b171-5c63c6c5fb7d"
      },
      "outputs": [
        {
          "name": "stdout",
          "output_type": "stream",
          "text": [
            "[[ 15  18  21]\n",
            " [ 42  54  66]\n",
            " [ 69  90 111]\n",
            " [ 96 126 156]]\n"
          ]
        }
      ],
      "source": [
        "matrix1=np.matrix([[ 0,  1,  2],[ 3,  4,  5],[ 6,  7,  8],[ 9, 10, 11]])\n",
        "matrix2=np.matrix([[ 0,  1,  2],[ 3,  4,  5],[ 6,  7,  8]])\n",
        "print(matrix1*matrix2)"
      ]
    },
    {
      "cell_type": "code",
      "execution_count": null,
      "id": "67e4eb0a-b2ed-4e19-87a6-6bb954a85d1f",
      "metadata": {
        "id": "67e4eb0a-b2ed-4e19-87a6-6bb954a85d1f"
      },
      "outputs": [],
      "source": []
    }
  ],
  "metadata": {
    "kernelspec": {
      "display_name": "Python 3 (ipykernel)",
      "language": "python",
      "name": "python3"
    },
    "language_info": {
      "codemirror_mode": {
        "name": "ipython",
        "version": 3
      },
      "file_extension": ".py",
      "mimetype": "text/x-python",
      "name": "python",
      "nbconvert_exporter": "python",
      "pygments_lexer": "ipython3",
      "version": "3.13.5"
    },
    "colab": {
      "provenance": []
    }
  },
  "nbformat": 4,
  "nbformat_minor": 5
}